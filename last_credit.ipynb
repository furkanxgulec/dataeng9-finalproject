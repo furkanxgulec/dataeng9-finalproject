{
 "cells": [
  {
   "cell_type": "code",
   "execution_count": 1,
   "id": "93d6312f-7ffd-4f0a-83b5-adfaabbb09f1",
   "metadata": {},
   "outputs": [],
   "source": [
    "import findspark\n",
    "findspark.init(\"/opt/spark\")"
   ]
  },
  {
   "cell_type": "code",
   "execution_count": 2,
   "id": "272aabab-4303-4092-948b-9d1a11b9c34c",
   "metadata": {},
   "outputs": [],
   "source": [
    "from pyspark.sql.functions import explode, from_json, explode_outer\n",
    "from pyspark.sql.functions import col\n",
    "from pyspark.sql.types import *\n",
    "from delta.tables import *"
   ]
  },
  {
   "cell_type": "code",
   "execution_count": 3,
   "id": "83f8a0bc-ba53-4327-89bf-386de20a0cf4",
   "metadata": {},
   "outputs": [
    {
     "name": "stderr",
     "output_type": "stream",
     "text": [
      "Warning: Ignoring non-Spark config property: fs.s3a.endpoint\n",
      "Warning: Ignoring non-Spark config property: fs.s3a.access.key\n",
      "Warning: Ignoring non-Spark config property: fs.s3a.impl\n",
      "Warning: Ignoring non-Spark config property: fs.s3a.path.style.access\n",
      "Warning: Ignoring non-Spark config property: fs.s3a.secret.key\n"
     ]
    },
    {
     "name": "stdout",
     "output_type": "stream",
     "text": [
      ":: loading settings :: url = jar:file:/opt/spark/jars/ivy-2.5.1.jar!/org/apache/ivy/core/settings/ivysettings.xml\n"
     ]
    },
    {
     "name": "stderr",
     "output_type": "stream",
     "text": [
      "Ivy Default Cache set to: /root/.ivy2/cache\n",
      "The jars for the packages stored in: /root/.ivy2/jars\n",
      "org.apache.hadoop#hadoop-aws added as a dependency\n",
      "io.delta#delta-core_2.12 added as a dependency\n",
      ":: resolving dependencies :: org.apache.spark#spark-submit-parent-a1607949-ca53-486e-848a-d8f898c40760;1.0\n",
      "\tconfs: [default]\n",
      "\tfound org.apache.hadoop#hadoop-aws;3.2.0 in central\n",
      "\tfound com.amazonaws#aws-java-sdk-bundle;1.11.375 in central\n",
      "\tfound io.delta#delta-core_2.12;2.4.0 in central\n",
      "\tfound io.delta#delta-storage;2.4.0 in central\n",
      "\tfound org.antlr#antlr4-runtime;4.9.3 in central\n",
      ":: resolution report :: resolve 307ms :: artifacts dl 10ms\n",
      "\t:: modules in use:\n",
      "\tcom.amazonaws#aws-java-sdk-bundle;1.11.375 from central in [default]\n",
      "\tio.delta#delta-core_2.12;2.4.0 from central in [default]\n",
      "\tio.delta#delta-storage;2.4.0 from central in [default]\n",
      "\torg.antlr#antlr4-runtime;4.9.3 from central in [default]\n",
      "\torg.apache.hadoop#hadoop-aws;3.2.0 from central in [default]\n",
      "\t---------------------------------------------------------------------\n",
      "\t|                  |            modules            ||   artifacts   |\n",
      "\t|       conf       | number| search|dwnlded|evicted|| number|dwnlded|\n",
      "\t---------------------------------------------------------------------\n",
      "\t|      default     |   5   |   0   |   0   |   0   ||   5   |   0   |\n",
      "\t---------------------------------------------------------------------\n",
      ":: retrieving :: org.apache.spark#spark-submit-parent-a1607949-ca53-486e-848a-d8f898c40760\n",
      "\tconfs: [default]\n",
      "\t0 artifacts copied, 5 already retrieved (0kB/6ms)\n",
      "24/03/23 03:33:59 WARN NativeCodeLoader: Unable to load native-hadoop library for your platform... using builtin-java classes where applicable\n",
      "Setting default log level to \"WARN\".\n",
      "To adjust logging level use sc.setLogLevel(newLevel). For SparkR, use setLogLevel(newLevel).\n",
      "24/03/23 03:34:01 WARN Utils: Service 'SparkUI' could not bind on port 4040. Attempting port 4041.\n"
     ]
    }
   ],
   "source": [
    "accessKeyId='dataops9'\n",
    "secretAccessKey='Ankara06'\n",
    "\n",
    "# create a SparkSession\n",
    "spark = SparkSession.builder \\\n",
    ".appName(\"credits-silver\") \\\n",
    ".master(\"local[2]\") \\\n",
    ".config(\"spark.jars.packages\", \"org.apache.hadoop:hadoop-aws:3.2.0,io.delta:delta-core_2.12:2.4.0\") \\\n",
    ".config(\"fs.s3a.access.key\", accessKeyId) \\\n",
    ".config(\"fs.s3a.secret.key\", secretAccessKey) \\\n",
    ".config(\"fs.s3a.path.style.access\", True) \\\n",
    ".config(\"fs.s3a.impl\", \"org.apache.hadoop.fs.s3a.S3AFileSystem\") \\\n",
    ".config(\"spark.sql.extensions\", \"io.delta.sql.DeltaSparkSessionExtension\")\\\n",
    ".config(\"spark.sql.catalog.spark_catalog\", \"org.apache.spark.sql.delta.catalog.DeltaCatalog\")\\\n",
    ".config(\"fs.s3a.endpoint\", \"http://minio:9000\") \\\n",
    ".config(\"spark.sql.debug.maxToStringFields\", 1000) \\\n",
    ".getOrCreate()"
   ]
  },
  {
   "cell_type": "code",
   "execution_count": 4,
   "id": "6dab1722-65bb-49f2-abf5-9d2ffac46ea6",
   "metadata": {},
   "outputs": [
    {
     "name": "stderr",
     "output_type": "stream",
     "text": [
      "24/03/23 03:34:03 WARN MetricsConfig: Cannot locate configuration: tried hadoop-metrics2-s3a-file-system.properties,hadoop-metrics2.properties\n",
      "                                                                                \r"
     ]
    },
    {
     "name": "stdout",
     "output_type": "stream",
     "text": [
      "root\n",
      " |-- movie_id: long (nullable = true)\n",
      " |-- title: string (nullable = true)\n",
      " |-- cast: string (nullable = true)\n",
      " |-- crew: string (nullable = true)\n",
      " |-- event_time: timestamp_ntz (nullable = true)\n",
      "\n"
     ]
    }
   ],
   "source": [
    "df_credits = spark.read.format(\"parquet\") \\\n",
    ".option(\"header\", True) \\\n",
    ".option(\"inferSchema\", True) \\\n",
    ".option(\"quote\", \"\\\"\") \\\n",
    ".option(\"escape\", \"\\\"\") \\\n",
    ".load(\"s3a://tmdb-bronze/credit/\")\n",
    "\n",
    "df_credits.printSchema()\n",
    "df_credits1 = df_credits"
   ]
  },
  {
   "cell_type": "code",
   "execution_count": 5,
   "id": "18afa1d4-20ef-418d-ae93-729b18b4abf6",
   "metadata": {},
   "outputs": [
    {
     "name": "stdout",
     "output_type": "stream",
     "text": [
      "root\n",
      " |-- movie_id: long (nullable = true)\n",
      " |-- title: string (nullable = true)\n",
      " |-- cast: array (nullable = true)\n",
      " |    |-- element: struct (containsNull = true)\n",
      " |    |    |-- cast_id: integer (nullable = true)\n",
      " |    |    |-- character: string (nullable = true)\n",
      " |    |    |-- credit_id: string (nullable = true)\n",
      " |    |    |-- gender: integer (nullable = true)\n",
      " |    |    |-- id: integer (nullable = true)\n",
      " |    |    |-- name: string (nullable = true)\n",
      " |-- crew: array (nullable = true)\n",
      " |    |-- element: struct (containsNull = true)\n",
      " |    |    |-- credit_id: string (nullable = true)\n",
      " |    |    |-- department: string (nullable = true)\n",
      " |    |    |-- gender: integer (nullable = true)\n",
      " |    |    |-- id: integer (nullable = true)\n",
      " |    |    |-- job: string (nullable = true)\n",
      " |    |    |-- name: string (nullable = true)\n",
      " |-- event_time: timestamp_ntz (nullable = true)\n",
      "\n"
     ]
    }
   ],
   "source": [
    "json_cast = ArrayType(StructType([\n",
    "    StructField(\"cast_id\", IntegerType()),\n",
    "    StructField(\"character\", StringType()),\n",
    "    StructField(\"credit_id\", StringType()),\n",
    "    StructField(\"gender\", IntegerType()),\n",
    "    StructField(\"id\", IntegerType()),\n",
    "    StructField(\"name\", StringType())\n",
    "]))\n",
    "#cast sütunundaki json değerlerini from_json ile  yukarıda belirtilen Json şemasına göre çözüp yeni bir sütun oluşturdum.\n",
    "df_credits1 = df_credits1.withColumn(\"cast\", from_json(col(\"cast\"), json_cast))\n",
    "\n",
    "\n",
    "json_crew = ArrayType(StructType([\n",
    "    StructField(\"credit_id\", StringType()),\n",
    "    StructField(\"department\", StringType()),\n",
    "    StructField(\"gender\", IntegerType()),\n",
    "    StructField(\"id\", IntegerType()),\n",
    "    StructField(\"job\", StringType()),\n",
    "    StructField(\"name\", StringType())\n",
    "]))\n",
    "\n",
    "df_credits1 = df_credits1.withColumn(\"crew\", from_json(col(\"crew\"), json_crew))\n",
    "\n",
    "df_credits1.printSchema()"
   ]
  },
  {
   "cell_type": "code",
   "execution_count": 6,
   "id": "ec357f64-10e7-482d-bd32-731deb5e8508",
   "metadata": {},
   "outputs": [
    {
     "name": "stdout",
     "output_type": "stream",
     "text": [
      "root\n",
      " |-- movie_id: string (nullable = true)\n",
      " |-- title: string (nullable = true)\n",
      " |-- cast_id: integer (nullable = true)\n",
      " |-- character: string (nullable = true)\n",
      " |-- credit_id: string (nullable = false)\n",
      " |-- gender: integer (nullable = true)\n",
      " |-- id: integer (nullable = true)\n",
      " |-- name: string (nullable = true)\n",
      "\n"
     ]
    }
   ],
   "source": [
    "#explode_outer ile iç içe geçmiş arrayi düzleştirdim veistenen değerleri credits_cast tablosunda gösterdim/ explode_outerda boş veya null durumundaki satırlar korunur\n",
    "credits_cast = df_credits1.select(\"movie_id\", \"title\", explode_outer(\"cast\").alias(\"cast\"))\n",
    "credits_cast = credits_cast.select(\"movie_id\", \"title\", \"cast.cast_id\", \"cast.character\", \"cast.credit_id\", \"cast.gender\", \"cast.id\", \"cast.name\")\n",
    "credits_cast = credits_cast.withColumn(\"movie_id\", col(\"movie_id\").cast(\"string\"))\n",
    "\n",
    "# id nulls must be imputed with -9999.\n",
    "credits_cast = credits_cast.fillna({'credit_id': 0000000000})\n",
    "credits_cast.printSchema()"
   ]
  },
  {
   "cell_type": "code",
   "execution_count": 7,
   "id": "e77b5c00-a494-4ba9-9cbb-9a52baae0fee",
   "metadata": {},
   "outputs": [
    {
     "name": "stderr",
     "output_type": "stream",
     "text": [
      "                                                                                \r"
     ]
    },
    {
     "data": {
      "text/plain": [
       "20578"
      ]
     },
     "execution_count": 7,
     "metadata": {},
     "output_type": "execute_result"
    }
   ],
   "source": [
    "credits_cast.count()"
   ]
  },
  {
   "cell_type": "code",
   "execution_count": 8,
   "id": "c7cf2f08-0624-44eb-a024-55620e9e90eb",
   "metadata": {},
   "outputs": [],
   "source": [
    "un_credits_cast = credits_cast.dropDuplicates(['movie_id', 'title','cast_id', 'character', 'credit_id','id', 'name'])"
   ]
  },
  {
   "cell_type": "code",
   "execution_count": 9,
   "id": "5a71eef3-26af-4e0a-8359-8e96b972d60a",
   "metadata": {},
   "outputs": [
    {
     "name": "stderr",
     "output_type": "stream",
     "text": [
      "                                                                                \r"
     ]
    },
    {
     "data": {
      "text/plain": [
       "20578"
      ]
     },
     "execution_count": 9,
     "metadata": {},
     "output_type": "execute_result"
    }
   ],
   "source": [
    "un_credits_cast.count()"
   ]
  },
  {
   "cell_type": "code",
   "execution_count": null,
   "id": "d3cb47cd-98fb-4b93-9d34-c1b81676de4e",
   "metadata": {},
   "outputs": [],
   "source": []
  },
  {
   "cell_type": "code",
   "execution_count": 10,
   "id": "93b74243-815e-40f0-baaa-27cc1d37e8f8",
   "metadata": {},
   "outputs": [],
   "source": [
    "cast_deltaPath = \"s3a://tmdb-silver/credits_cast\"\n",
    "cast_delta = DeltaTable.forPath(spark, cast_deltaPath)"
   ]
  },
  {
   "cell_type": "code",
   "execution_count": 11,
   "id": "2f72b5bf-22b9-491d-be75-dc4e19497350",
   "metadata": {},
   "outputs": [
    {
     "name": "stderr",
     "output_type": "stream",
     "text": [
      "                                                                                \r"
     ]
    }
   ],
   "source": [
    "cast_delta.alias(\"cast\") \\\n",
    "    .merge(un_credits_cast.alias(\"cast_new\"), \"cast.movie_id = cast_new.movie_id AND cast.credit_id = cast_new.credit_id\") \\\n",
    "    .whenMatchedUpdateAll() \\\n",
    "    .whenNotMatchedInsertAll() \\\n",
    "    .execute()"
   ]
  },
  {
   "cell_type": "code",
   "execution_count": 12,
   "id": "74e76f5f-cab3-4e1d-ae4d-2fa515231a78",
   "metadata": {},
   "outputs": [],
   "source": [
    "credits_crew = df_credits1.select(\"movie_id\", \"title\", explode_outer(\"crew\").alias(\"crew\"))\n",
    "credits_crew = credits_crew.select(\"movie_id\", \"title\",\"crew.credit_id\",\"crew.department\", \"crew.gender\", \"crew.id\", \"crew.job\", \"crew.name\")\n",
    "credits_crew = credits_crew.withColumn(\"movie_id\", col(\"movie_id\").cast(\"string\"))"
   ]
  },
  {
   "cell_type": "code",
   "execution_count": 13,
   "id": "2a786072-543b-4895-baa9-f48d42a42da9",
   "metadata": {},
   "outputs": [],
   "source": [
    "# id nulls must be imputed with -9999.\n",
    "credits_crew = credits_crew.fillna({'credit_id': 0000000000})"
   ]
  },
  {
   "cell_type": "code",
   "execution_count": 14,
   "id": "191137f3-e4e6-42f3-aec6-3cb164c000d1",
   "metadata": {},
   "outputs": [
    {
     "data": {
      "text/plain": [
       "35083"
      ]
     },
     "execution_count": 14,
     "metadata": {},
     "output_type": "execute_result"
    }
   ],
   "source": [
    "credits_crew.count()"
   ]
  },
  {
   "cell_type": "code",
   "execution_count": 15,
   "id": "2ab77ed7-4676-437e-b328-cdb3b4f00a98",
   "metadata": {},
   "outputs": [],
   "source": [
    "un_credits_crew = credits_crew.dropDuplicates(['movie_id', 'id','credit_id'])"
   ]
  },
  {
   "cell_type": "code",
   "execution_count": 16,
   "id": "172c59ea-bffa-4533-93f9-543d12e5face",
   "metadata": {},
   "outputs": [
    {
     "name": "stderr",
     "output_type": "stream",
     "text": [
      "                                                                                \r"
     ]
    },
    {
     "data": {
      "text/plain": [
       "35083"
      ]
     },
     "execution_count": 16,
     "metadata": {},
     "output_type": "execute_result"
    }
   ],
   "source": [
    "un_credits_crew.count()"
   ]
  },
  {
   "cell_type": "code",
   "execution_count": 17,
   "id": "ddf33156-1231-4807-9fb6-31a0fafd0a49",
   "metadata": {},
   "outputs": [],
   "source": [
    "crew_deltaPath = 's3a://tmdb-silver/credits_crew'\n",
    "crew_delta = DeltaTable.forPath(spark, crew_deltaPath)"
   ]
  },
  {
   "cell_type": "code",
   "execution_count": 18,
   "id": "f01724c4-8a58-455f-b45f-3b6a48e05155",
   "metadata": {},
   "outputs": [
    {
     "name": "stderr",
     "output_type": "stream",
     "text": [
      "                                                                                \r"
     ]
    }
   ],
   "source": [
    "crew_delta.alias(\"crew\") \\\n",
    "    .merge(un_credits_crew.alias(\"crew_new\"), \"crew.movie_id = crew_new.movie_id AND crew.credit_id = crew_new.credit_id\") \\\n",
    "    .whenMatchedUpdateAll() \\\n",
    "    .whenNotMatchedInsertAll() \\\n",
    "    .execute()"
   ]
  },
  {
   "cell_type": "code",
   "execution_count": 26,
   "id": "43a9fcb1-7922-4805-9181-c15c5ecb6816",
   "metadata": {},
   "outputs": [],
   "source": [
    "df1_de = spark.read.format(\"delta\") \\\n",
    ".option(\"header\", True) \\\n",
    ".option(\"inferSchema\", True) \\\n",
    ".option(\"quote\", \"\\\"\") \\\n",
    ".option(\"escape\", \"\\\"\") \\\n",
    ".load('s3a://tmdb-silver/credits_cast')"
   ]
  },
  {
   "cell_type": "code",
   "execution_count": 27,
   "id": "49110621-eed4-40a0-a965-6b02dd30c6ed",
   "metadata": {},
   "outputs": [
    {
     "name": "stderr",
     "output_type": "stream",
     "text": [
      "                                                                                \r"
     ]
    },
    {
     "data": {
      "text/plain": [
       "106300"
      ]
     },
     "execution_count": 27,
     "metadata": {},
     "output_type": "execute_result"
    }
   ],
   "source": [
    "df1_de.count()"
   ]
  },
  {
   "cell_type": "code",
   "execution_count": 28,
   "id": "03f4d0ad-b6d4-46a6-9911-96c60046f04e",
   "metadata": {},
   "outputs": [
    {
     "name": "stdout",
     "output_type": "stream",
     "text": [
      "root\n",
      " |-- movie_id: string (nullable = true)\n",
      " |-- title: string (nullable = true)\n",
      " |-- cast_id: integer (nullable = true)\n",
      " |-- character: string (nullable = true)\n",
      " |-- credit_id: integer (nullable = true)\n",
      " |-- gender: integer (nullable = true)\n",
      " |-- id: integer (nullable = true)\n",
      " |-- name: string (nullable = true)\n",
      "\n"
     ]
    }
   ],
   "source": [
    "df1_de.printSchema()"
   ]
  },
  {
   "cell_type": "code",
   "execution_count": 29,
   "id": "24e12914-a2d4-4868-88ee-135af99b341a",
   "metadata": {},
   "outputs": [],
   "source": [
    "df11_credits = spark.read.format(\"delta\") \\\n",
    ".option(\"header\", True) \\\n",
    ".option(\"inferSchema\", True) \\\n",
    ".option(\"quote\", \"\\\"\") \\\n",
    ".option(\"escape\", \"\\\"\") \\\n",
    ".load(\"s3a://tmdb-silver/credits_crew\")"
   ]
  },
  {
   "cell_type": "code",
   "execution_count": 30,
   "id": "f840e377-a0a3-4c9e-b0fa-aa27e83a0938",
   "metadata": {},
   "outputs": [
    {
     "name": "stdout",
     "output_type": "stream",
     "text": [
      "root\n",
      " |-- movie_id: string (nullable = true)\n",
      " |-- title: string (nullable = true)\n",
      " |-- credit_id: string (nullable = true)\n",
      " |-- department: string (nullable = true)\n",
      " |-- gender: integer (nullable = true)\n",
      " |-- id: integer (nullable = true)\n",
      " |-- job: string (nullable = true)\n",
      " |-- name: string (nullable = true)\n",
      "\n"
     ]
    }
   ],
   "source": [
    "df11_credits.printSchema()"
   ]
  },
  {
   "cell_type": "code",
   "execution_count": 31,
   "id": "f2931325-cb0f-4fde-92b4-5920cb6d0375",
   "metadata": {},
   "outputs": [
    {
     "name": "stdout",
     "output_type": "stream",
     "text": [
      "root\n",
      " |-- movie_id: string (nullable = true)\n",
      " |-- title: string (nullable = true)\n",
      " |-- credit_id: string (nullable = false)\n",
      " |-- department: string (nullable = true)\n",
      " |-- gender: integer (nullable = true)\n",
      " |-- id: integer (nullable = true)\n",
      " |-- job: string (nullable = true)\n",
      " |-- name: string (nullable = true)\n",
      "\n"
     ]
    }
   ],
   "source": [
    "un_credits_crew.printSchema()"
   ]
  },
  {
   "cell_type": "code",
   "execution_count": 17,
   "id": "7d0a9261-bf16-4bd3-8d41-7f71661969d7",
   "metadata": {},
   "outputs": [
    {
     "name": "stderr",
     "output_type": "stream",
     "text": [
      "                                                                                \r"
     ]
    },
    {
     "data": {
      "text/plain": [
       "129609"
      ]
     },
     "execution_count": 17,
     "metadata": {},
     "output_type": "execute_result"
    }
   ],
   "source": [
    "un_credits_crew.count()"
   ]
  },
  {
   "cell_type": "code",
   "execution_count": 33,
   "id": "a00ec3ab-ddcd-4634-850c-a6b02b773566",
   "metadata": {},
   "outputs": [
    {
     "name": "stdout",
     "output_type": "stream",
     "text": [
      "root\n",
      " |-- movie_id: string (nullable = true)\n",
      " |-- title: string (nullable = true)\n",
      " |-- credit_id: string (nullable = true)\n",
      " |-- department: string (nullable = true)\n",
      " |-- gender: integer (nullable = true)\n",
      " |-- id: integer (nullable = true)\n",
      " |-- job: string (nullable = true)\n",
      " |-- name: string (nullable = true)\n",
      "\n"
     ]
    }
   ],
   "source": [
    "crew_delta.toDF().printSchema()"
   ]
  },
  {
   "cell_type": "code",
   "execution_count": null,
   "id": "d3063f98-534d-4f2a-a165-052def90ce32",
   "metadata": {},
   "outputs": [],
   "source": []
  }
 ],
 "metadata": {
  "kernelspec": {
   "display_name": "Python 3 (ipykernel)",
   "language": "python",
   "name": "python3"
  },
  "language_info": {
   "codemirror_mode": {
    "name": "ipython",
    "version": 3
   },
   "file_extension": ".py",
   "mimetype": "text/x-python",
   "name": "python",
   "nbconvert_exporter": "python",
   "pygments_lexer": "ipython3",
   "version": "3.8.18"
  }
 },
 "nbformat": 4,
 "nbformat_minor": 5
}
