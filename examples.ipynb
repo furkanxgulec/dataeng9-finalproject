{
 "cells": [
  {
   "cell_type": "code",
   "execution_count": 1,
   "id": "49d88656-479c-45c8-9522-cc453e906b45",
   "metadata": {},
   "outputs": [],
   "source": [
    "import findspark\n",
    "findspark.init(\"/opt/spark\")"
   ]
  },
  {
   "cell_type": "code",
   "execution_count": 12,
   "id": "c51b32c6-0f48-4828-8615-f77774ac9025",
   "metadata": {},
   "outputs": [],
   "source": [
    "from pyspark.sql.functions import explode, from_json, explode_outer\n",
    "from pyspark.sql.functions import *\n",
    "from pyspark.sql.types import *\n",
    "from delta.tables import *"
   ]
  },
  {
   "cell_type": "code",
   "execution_count": 3,
   "id": "73917b3b-046b-4a66-a7c9-56acb43d4443",
   "metadata": {},
   "outputs": [
    {
     "name": "stderr",
     "output_type": "stream",
     "text": [
      "Warning: Ignoring non-Spark config property: fs.s3a.endpoint\n",
      "Warning: Ignoring non-Spark config property: fs.s3a.access.key\n",
      "Warning: Ignoring non-Spark config property: fs.s3a.impl\n",
      "Warning: Ignoring non-Spark config property: fs.s3a.path.style.access\n",
      "Warning: Ignoring non-Spark config property: fs.s3a.secret.key\n"
     ]
    },
    {
     "name": "stdout",
     "output_type": "stream",
     "text": [
      ":: loading settings :: url = jar:file:/opt/spark/jars/ivy-2.5.1.jar!/org/apache/ivy/core/settings/ivysettings.xml\n"
     ]
    },
    {
     "name": "stderr",
     "output_type": "stream",
     "text": [
      "Ivy Default Cache set to: /root/.ivy2/cache\n",
      "The jars for the packages stored in: /root/.ivy2/jars\n",
      "org.apache.hadoop#hadoop-aws added as a dependency\n",
      "io.delta#delta-core_2.12 added as a dependency\n",
      ":: resolving dependencies :: org.apache.spark#spark-submit-parent-e3fcb6e3-008e-4965-ba41-697d9a569739;1.0\n",
      "\tconfs: [default]\n",
      "\tfound org.apache.hadoop#hadoop-aws;3.2.0 in central\n",
      "\tfound com.amazonaws#aws-java-sdk-bundle;1.11.375 in central\n",
      "\tfound io.delta#delta-core_2.12;2.4.0 in central\n",
      "\tfound io.delta#delta-storage;2.4.0 in central\n",
      "\tfound org.antlr#antlr4-runtime;4.9.3 in central\n",
      "downloading https://repo1.maven.org/maven2/org/apache/hadoop/hadoop-aws/3.2.0/hadoop-aws-3.2.0.jar ...\n",
      "\t[SUCCESSFUL ] org.apache.hadoop#hadoop-aws;3.2.0!hadoop-aws.jar (329ms)\n",
      "downloading https://repo1.maven.org/maven2/io/delta/delta-core_2.12/2.4.0/delta-core_2.12-2.4.0.jar ...\n",
      "\t[SUCCESSFUL ] io.delta#delta-core_2.12;2.4.0!delta-core_2.12.jar (2295ms)\n",
      "downloading https://repo1.maven.org/maven2/com/amazonaws/aws-java-sdk-bundle/1.11.375/aws-java-sdk-bundle-1.11.375.jar ...\n",
      "\t[SUCCESSFUL ] com.amazonaws#aws-java-sdk-bundle;1.11.375!aws-java-sdk-bundle.jar (68467ms)\n",
      "downloading https://repo1.maven.org/maven2/io/delta/delta-storage/2.4.0/delta-storage-2.4.0.jar ...\n",
      "\t[SUCCESSFUL ] io.delta#delta-storage;2.4.0!delta-storage.jar (80ms)\n",
      "downloading https://repo1.maven.org/maven2/org/antlr/antlr4-runtime/4.9.3/antlr4-runtime-4.9.3.jar ...\n",
      "\t[SUCCESSFUL ] org.antlr#antlr4-runtime;4.9.3!antlr4-runtime.jar (248ms)\n",
      ":: resolution report :: resolve 8665ms :: artifacts dl 71441ms\n",
      "\t:: modules in use:\n",
      "\tcom.amazonaws#aws-java-sdk-bundle;1.11.375 from central in [default]\n",
      "\tio.delta#delta-core_2.12;2.4.0 from central in [default]\n",
      "\tio.delta#delta-storage;2.4.0 from central in [default]\n",
      "\torg.antlr#antlr4-runtime;4.9.3 from central in [default]\n",
      "\torg.apache.hadoop#hadoop-aws;3.2.0 from central in [default]\n",
      "\t---------------------------------------------------------------------\n",
      "\t|                  |            modules            ||   artifacts   |\n",
      "\t|       conf       | number| search|dwnlded|evicted|| number|dwnlded|\n",
      "\t---------------------------------------------------------------------\n",
      "\t|      default     |   5   |   5   |   5   |   0   ||   5   |   5   |\n",
      "\t---------------------------------------------------------------------\n",
      ":: retrieving :: org.apache.spark#spark-submit-parent-e3fcb6e3-008e-4965-ba41-697d9a569739\n",
      "\tconfs: [default]\n",
      "\t5 artifacts copied, 0 already retrieved (101424kB/132ms)\n",
      "24/03/25 21:21:20 WARN NativeCodeLoader: Unable to load native-hadoop library for your platform... using builtin-java classes where applicable\n",
      "Setting default log level to \"WARN\".\n",
      "To adjust logging level use sc.setLogLevel(newLevel). For SparkR, use setLogLevel(newLevel).\n"
     ]
    }
   ],
   "source": [
    "accessKeyId='dataops9'\n",
    "secretAccessKey='Ankara06'\n",
    "\n",
    "# create a SparkSession\n",
    "spark = SparkSession.builder \\\n",
    ".appName(\"credits-silver\") \\\n",
    ".master(\"local[2]\") \\\n",
    ".config(\"spark.jars.packages\", \"org.apache.hadoop:hadoop-aws:3.2.0,io.delta:delta-core_2.12:2.4.0\") \\\n",
    ".config(\"fs.s3a.access.key\", accessKeyId) \\\n",
    ".config(\"fs.s3a.secret.key\", secretAccessKey) \\\n",
    ".config(\"fs.s3a.path.style.access\", True) \\\n",
    ".config(\"fs.s3a.impl\", \"org.apache.hadoop.fs.s3a.S3AFileSystem\") \\\n",
    ".config(\"spark.sql.extensions\", \"io.delta.sql.DeltaSparkSessionExtension\")\\\n",
    ".config(\"spark.sql.catalog.spark_catalog\", \"org.apache.spark.sql.delta.catalog.DeltaCatalog\")\\\n",
    ".config(\"fs.s3a.endpoint\", \"http://minio:9000\") \\\n",
    ".config(\"spark.sql.debug.maxToStringFields\", 1000) \\\n",
    ".getOrCreate()"
   ]
  },
  {
   "cell_type": "code",
   "execution_count": 7,
   "id": "74d07083-cabd-412c-aabe-6078ee85ba5f",
   "metadata": {},
   "outputs": [],
   "source": [
    "c_cast = DeltaTable.forPath(spark, \"s3a://tmdb-silver/credits_cast\")\n",
    "c_cast = c_cast.toDF()\n",
    "\n",
    "c_crew = DeltaTable.forPath(spark, \"s3a://tmdb-silver/credits_crew\")\n",
    "c_crew = c_crew.toDF()\n",
    "\n",
    "movies = DeltaTable.forPath(spark, \"s3a://tmdb-silver/movies\")\n",
    "movies = movies.toDF()\n",
    "\n",
    "genres = DeltaTable.forPath(spark, \"s3a://tmdb-silver/genres\")\n",
    "genres = genres.toDF()\n",
    "\n",
    "keywords = DeltaTable.forPath(spark, \"s3a://tmdb-silver/keywords\")\n",
    "keywords = keywords.toDF()\n",
    "\n",
    "production_companies = DeltaTable.forPath(spark, \"s3a://tmdb-silver/production_companies\")\n",
    "production_companies = production_companies.toDF()\n",
    "\n",
    "production_countries = DeltaTable.forPath(spark, \"s3a://tmdb-silver/production_countries\")\n",
    "production_countries = production_countries.toDF()\n",
    "\n",
    "spoken_languages = DeltaTable.forPath(spark, \"s3a://tmdb-silver/spoken_languages\")\n",
    "spoken_languages = spoken_languages.toDF()"
   ]
  },
  {
   "cell_type": "code",
   "execution_count": 8,
   "id": "8b391032-3ddb-42a2-875f-3ebed638c2b2",
   "metadata": {},
   "outputs": [],
   "source": [
    "c_cast = c_cast.select(\"movie_id\", \"character\", \"name\")\n",
    "c_cast = c_cast.withColumnRenamed(\"movie_id\", \"cast_movie_id\")"
   ]
  },
  {
   "cell_type": "code",
   "execution_count": 9,
   "id": "205924b7-e5eb-497e-8343-f0773b13d008",
   "metadata": {},
   "outputs": [],
   "source": [
    "joined_df = movies.join(c_cast, movies.movie_id == c_cast.cast_movie_id)"
   ]
  },
  {
   "cell_type": "code",
   "execution_count": 10,
   "id": "f84f2188-a98c-40c0-ace0-24c1ea37a7d5",
   "metadata": {},
   "outputs": [],
   "source": [
    "joined_filt_tcruise = joined_df.filter(joined_df[\"name\"] == 'Tom Cruise')"
   ]
  },
  {
   "cell_type": "code",
   "execution_count": 13,
   "id": "0a5ba9cc-4c5d-42be-a5b1-78de7b7092af",
   "metadata": {},
   "outputs": [
    {
     "name": "stderr",
     "output_type": "stream",
     "text": [
      "                                                                                \r"
     ]
    },
    {
     "data": {
      "text/html": [
       "<div>\n",
       "<style scoped>\n",
       "    .dataframe tbody tr th:only-of-type {\n",
       "        vertical-align: middle;\n",
       "    }\n",
       "\n",
       "    .dataframe tbody tr th {\n",
       "        vertical-align: top;\n",
       "    }\n",
       "\n",
       "    .dataframe thead th {\n",
       "        text-align: right;\n",
       "    }\n",
       "</style>\n",
       "<table border=\"1\" class=\"dataframe\">\n",
       "  <thead>\n",
       "    <tr style=\"text-align: right;\">\n",
       "      <th></th>\n",
       "      <th>title</th>\n",
       "      <th>revenue</th>\n",
       "      <th>character</th>\n",
       "      <th>name</th>\n",
       "    </tr>\n",
       "  </thead>\n",
       "  <tbody>\n",
       "    <tr>\n",
       "      <th>0</th>\n",
       "      <td>Mission: Impossible - Ghost Protocol</td>\n",
       "      <td>694713380.0</td>\n",
       "      <td>Ethan Hunt</td>\n",
       "      <td>Tom Cruise</td>\n",
       "    </tr>\n",
       "  </tbody>\n",
       "</table>\n",
       "</div>"
      ],
      "text/plain": [
       "                                  title      revenue   character        name\n",
       "0  Mission: Impossible - Ghost Protocol  694713380.0  Ethan Hunt  Tom Cruise"
      ]
     },
     "execution_count": 13,
     "metadata": {},
     "output_type": "execute_result"
    }
   ],
   "source": [
    "high_filt_tcruise = joined_filt_tcruise \\\n",
    "    .orderBy(desc(\"revenue\"))\\\n",
    "    .select(\"title\", \"revenue\", \"character\", \"name\") \\\n",
    "    .limit(1)\n",
    "high_filt_tcruise.toPandas()"
   ]
  },
  {
   "cell_type": "code",
   "execution_count": 15,
   "id": "45d4ae0b-d6a6-4eec-9306-2ee8d3586859",
   "metadata": {},
   "outputs": [],
   "source": [
    "spoken_languages =spoken_languages.withColumnRenamed(\"movie_id\", \"spk_movie_id\")\n",
    "mv_spk_joined = movies.join(spoken_languages, movies.movie_id == spoken_languages.spk_movie_id) "
   ]
  },
  {
   "cell_type": "code",
   "execution_count": 16,
   "id": "152f5448-a5e2-469e-8fc3-f58207800fba",
   "metadata": {},
   "outputs": [
    {
     "name": "stderr",
     "output_type": "stream",
     "text": [
      "[Stage 22:>                                                         (0 + 2) / 2]\r"
     ]
    },
    {
     "name": "stdout",
     "output_type": "stream",
     "text": [
      "+--------+-----+-----+\n",
      "|movie_id|title|count|\n",
      "+--------+-----+-----+\n",
      "|   14161| 2012|    9|\n",
      "+--------+-----+-----+\n",
      "\n"
     ]
    },
    {
     "name": "stderr",
     "output_type": "stream",
     "text": [
      "                                                                                \r"
     ]
    }
   ],
   "source": [
    "movie_counts = mv_spk_joined.groupBy(\"movie_id\", \"title\") \\\n",
    "    .count()\\\n",
    "    .orderBy(desc(\"count\"))\\\n",
    "    .limit(1)\n",
    "movie_counts.show()"
   ]
  },
  {
   "cell_type": "code",
   "execution_count": 18,
   "id": "4f95a709-843e-41a5-8ef0-0708a67393dc",
   "metadata": {},
   "outputs": [
    {
     "name": "stderr",
     "output_type": "stream",
     "text": [
      "                                                                                \r"
     ]
    },
    {
     "data": {
      "text/html": [
       "<div>\n",
       "<style scoped>\n",
       "    .dataframe tbody tr th:only-of-type {\n",
       "        vertical-align: middle;\n",
       "    }\n",
       "\n",
       "    .dataframe tbody tr th {\n",
       "        vertical-align: top;\n",
       "    }\n",
       "\n",
       "    .dataframe thead th {\n",
       "        text-align: right;\n",
       "    }\n",
       "</style>\n",
       "<table border=\"1\" class=\"dataframe\">\n",
       "  <thead>\n",
       "    <tr style=\"text-align: right;\">\n",
       "      <th></th>\n",
       "      <th>title</th>\n",
       "      <th>iso_639_1</th>\n",
       "      <th>name</th>\n",
       "    </tr>\n",
       "  </thead>\n",
       "  <tbody>\n",
       "    <tr>\n",
       "      <th>0</th>\n",
       "      <td>2012</td>\n",
       "      <td>zh</td>\n",
       "      <td>普通话</td>\n",
       "    </tr>\n",
       "    <tr>\n",
       "      <th>1</th>\n",
       "      <td>2012</td>\n",
       "      <td>ru</td>\n",
       "      <td>Pусский</td>\n",
       "    </tr>\n",
       "    <tr>\n",
       "      <th>2</th>\n",
       "      <td>2012</td>\n",
       "      <td>pt</td>\n",
       "      <td>Português</td>\n",
       "    </tr>\n",
       "    <tr>\n",
       "      <th>3</th>\n",
       "      <td>2012</td>\n",
       "      <td>la</td>\n",
       "      <td>Latin</td>\n",
       "    </tr>\n",
       "    <tr>\n",
       "      <th>4</th>\n",
       "      <td>2012</td>\n",
       "      <td>it</td>\n",
       "      <td>Italiano</td>\n",
       "    </tr>\n",
       "    <tr>\n",
       "      <th>5</th>\n",
       "      <td>2012</td>\n",
       "      <td>hi</td>\n",
       "      <td>हिन्दी</td>\n",
       "    </tr>\n",
       "    <tr>\n",
       "      <th>6</th>\n",
       "      <td>2012</td>\n",
       "      <td>fr</td>\n",
       "      <td>Français</td>\n",
       "    </tr>\n",
       "    <tr>\n",
       "      <th>7</th>\n",
       "      <td>2012</td>\n",
       "      <td>en</td>\n",
       "      <td>English</td>\n",
       "    </tr>\n",
       "    <tr>\n",
       "      <th>8</th>\n",
       "      <td>2012</td>\n",
       "      <td>bo</td>\n",
       "      <td></td>\n",
       "    </tr>\n",
       "  </tbody>\n",
       "</table>\n",
       "</div>"
      ],
      "text/plain": [
       "  title iso_639_1       name\n",
       "0  2012        zh        普通话\n",
       "1  2012        ru    Pусский\n",
       "2  2012        pt  Português\n",
       "3  2012        la      Latin\n",
       "4  2012        it   Italiano\n",
       "5  2012        hi     हिन्दी\n",
       "6  2012        fr   Français\n",
       "7  2012        en    English\n",
       "8  2012        bo           "
      ]
     },
     "execution_count": 18,
     "metadata": {},
     "output_type": "execute_result"
    }
   ],
   "source": [
    "mov_id = movie_counts.select(\"movie_id\").collect()[0][\"movie_id\"]\n",
    "\n",
    "most_repeat = mv_spk_joined\\\n",
    "    .filter(col(\"movie_id\") == mov_id) \\\n",
    "    .select(\"title\",\"iso_639_1\", \"name\")\n",
    "\n",
    "most_repeat.toPandas()"
   ]
  },
  {
   "cell_type": "code",
   "execution_count": null,
   "id": "98ee1e9e-1e88-4ebe-8305-57d7732223ac",
   "metadata": {},
   "outputs": [],
   "source": []
  }
 ],
 "metadata": {
  "kernelspec": {
   "display_name": "Python 3 (ipykernel)",
   "language": "python",
   "name": "python3"
  },
  "language_info": {
   "codemirror_mode": {
    "name": "ipython",
    "version": 3
   },
   "file_extension": ".py",
   "mimetype": "text/x-python",
   "name": "python",
   "nbconvert_exporter": "python",
   "pygments_lexer": "ipython3",
   "version": "3.8.18"
  }
 },
 "nbformat": 4,
 "nbformat_minor": 5
}
