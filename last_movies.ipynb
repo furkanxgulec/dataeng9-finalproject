{
 "cells": [
  {
   "cell_type": "code",
   "execution_count": 1,
   "id": "efa6ab6a-56c3-456f-9813-3d180f692041",
   "metadata": {},
   "outputs": [
    {
     "name": "stderr",
     "output_type": "stream",
     "text": [
      "Warning: Ignoring non-Spark config property: fs.s3a.endpoint\n",
      "Warning: Ignoring non-Spark config property: fs.s3a.access.key\n",
      "Warning: Ignoring non-Spark config property: fs.s3a.impl\n",
      "Warning: Ignoring non-Spark config property: fs.s3a.path.style.access\n",
      "Warning: Ignoring non-Spark config property: fs.s3a.secret.key\n"
     ]
    },
    {
     "name": "stdout",
     "output_type": "stream",
     "text": [
      ":: loading settings :: url = jar:file:/opt/spark/jars/ivy-2.5.1.jar!/org/apache/ivy/core/settings/ivysettings.xml\n"
     ]
    },
    {
     "name": "stderr",
     "output_type": "stream",
     "text": [
      "Ivy Default Cache set to: /root/.ivy2/cache\n",
      "The jars for the packages stored in: /root/.ivy2/jars\n",
      "org.apache.hadoop#hadoop-aws added as a dependency\n",
      "io.delta#delta-core_2.12 added as a dependency\n",
      ":: resolving dependencies :: org.apache.spark#spark-submit-parent-5360b23f-2726-43dd-ae2b-cd3e9f1417dc;1.0\n",
      "\tconfs: [default]\n",
      "\tfound org.apache.hadoop#hadoop-aws;3.2.0 in central\n",
      "\tfound com.amazonaws#aws-java-sdk-bundle;1.11.375 in central\n",
      "\tfound io.delta#delta-core_2.12;2.4.0 in central\n",
      "\tfound io.delta#delta-storage;2.4.0 in central\n",
      "\tfound org.antlr#antlr4-runtime;4.9.3 in central\n",
      ":: resolution report :: resolve 321ms :: artifacts dl 18ms\n",
      "\t:: modules in use:\n",
      "\tcom.amazonaws#aws-java-sdk-bundle;1.11.375 from central in [default]\n",
      "\tio.delta#delta-core_2.12;2.4.0 from central in [default]\n",
      "\tio.delta#delta-storage;2.4.0 from central in [default]\n",
      "\torg.antlr#antlr4-runtime;4.9.3 from central in [default]\n",
      "\torg.apache.hadoop#hadoop-aws;3.2.0 from central in [default]\n",
      "\t---------------------------------------------------------------------\n",
      "\t|                  |            modules            ||   artifacts   |\n",
      "\t|       conf       | number| search|dwnlded|evicted|| number|dwnlded|\n",
      "\t---------------------------------------------------------------------\n",
      "\t|      default     |   5   |   0   |   0   |   0   ||   5   |   0   |\n",
      "\t---------------------------------------------------------------------\n",
      ":: retrieving :: org.apache.spark#spark-submit-parent-5360b23f-2726-43dd-ae2b-cd3e9f1417dc\n",
      "\tconfs: [default]\n",
      "\t0 artifacts copied, 5 already retrieved (0kB/22ms)\n",
      "24/03/23 03:36:20 WARN NativeCodeLoader: Unable to load native-hadoop library for your platform... using builtin-java classes where applicable\n",
      "Setting default log level to \"WARN\".\n",
      "To adjust logging level use sc.setLogLevel(newLevel). For SparkR, use setLogLevel(newLevel).\n",
      "24/03/23 03:36:22 WARN Utils: Service 'SparkUI' could not bind on port 4040. Attempting port 4041.\n",
      "24/03/23 03:36:22 WARN Utils: Service 'SparkUI' could not bind on port 4041. Attempting port 4042.\n"
     ]
    }
   ],
   "source": [
    "import pandas as pd\n",
    "\n",
    "import findspark\n",
    "findspark.init(\"/opt/spark\")\n",
    "\n",
    "from pyspark.sql import SparkSession, functions as F\n",
    "from pyspark.sql.functions import explode, from_json, explode_outer\n",
    "from pyspark.sql.functions import col\n",
    "from pyspark.sql.types import *\n",
    "from delta.tables import *\n",
    "\n",
    "accessKeyId='dataops9'\n",
    "secretAccessKey='Ankara06'\n",
    "\n",
    "# create a SparkSession\n",
    "spark = SparkSession.builder \\\n",
    ".appName(\"movies-silver\") \\\n",
    ".master(\"local[2]\") \\\n",
    ".config(\"spark.jars.packages\", \"org.apache.hadoop:hadoop-aws:3.2.0,io.delta:delta-core_2.12:2.4.0\") \\\n",
    ".config(\"fs.s3a.access.key\", accessKeyId) \\\n",
    ".config(\"fs.s3a.secret.key\", secretAccessKey) \\\n",
    ".config(\"fs.s3a.path.style.access\", True) \\\n",
    ".config(\"fs.s3a.impl\", \"org.apache.hadoop.fs.s3a.S3AFileSystem\") \\\n",
    ".config(\"fs.s3a.endpoint\", \"http://minio:9000\") \\\n",
    ".config(\"spark.sql.extensions\", \"io.delta.sql.DeltaSparkSessionExtension\")\\\n",
    ".config(\"spark.sql.catalog.spark_catalog\", \"org.apache.spark.sql.delta.catalog.DeltaCatalog\")\\\n",
    ".config(\"fs.s3a.endpoint\", \"http://minio:9000\") \\\n",
    ".config(\"spark.sql.debug.maxToStringFields\", 1000) \\\n",
    ".getOrCreate()\n"
   ]
  },
  {
   "cell_type": "code",
   "execution_count": 2,
   "id": "6d80be8b-e9ed-4cc6-be6a-d458961971a6",
   "metadata": {},
   "outputs": [
    {
     "name": "stderr",
     "output_type": "stream",
     "text": [
      "24/03/23 03:36:25 WARN MetricsConfig: Cannot locate configuration: tried hadoop-metrics2-s3a-file-system.properties,hadoop-metrics2.properties\n",
      "                                                                                \r"
     ]
    }
   ],
   "source": [
    "df_movies = spark.read.format(\"parquet\") \\\n",
    ".option(\"header\", True) \\\n",
    ".option(\"inferSchema\", True) \\\n",
    ".option(\"quote\", \"\\\"\") \\\n",
    ".option(\"escape\", \"\\\"\") \\\n",
    ".load('s3a://tmdb-bronze/movies/')\n",
    "\n",
    "df_movies =df_movies.withColumnRenamed(\"id\", \"movie_id\")\n",
    "\n",
    "\n",
    "json_genres = ArrayType(StructType([\n",
    "        StructField(\"id\", IntegerType()),\n",
    "        StructField(\"name\", StringType())    \n",
    "]))\n",
    "\n",
    "df_movies = df_movies.withColumn(\"genres\", from_json(col(\"genres\"), json_genres))\n",
    "\n",
    "\n",
    "json_keywords = ArrayType(StructType([\n",
    "    StructField(\"id\", IntegerType()),\n",
    "    StructField(\"name\", StringType())    \n",
    "]))\n",
    "df_movies = df_movies.withColumn(\"keywords\", from_json(col(\"keywords\"), json_keywords))\n",
    "\n",
    "json_pcompanies = ArrayType(StructType([\n",
    "    StructField(\"name\", StringType()),\n",
    "    StructField(\"id\", IntegerType())\n",
    "]))\n",
    "df_movies = df_movies.withColumn(\"production_companies\", from_json(col(\"production_companies\"), json_pcompanies))\n",
    "\n",
    "\n",
    "json_pcountries  = ArrayType(StructType([\n",
    "    StructField(\"iso_3166_1\", StringType()),\n",
    "    StructField(\"name\", StringType())\n",
    "]))\n",
    "\n",
    "df_movies = df_movies.withColumn(\"production_countries\", from_json(col(\"production_countries\"), json_pcountries))\n",
    "\n",
    "json_slang = ArrayType(StructType([\n",
    "    StructField(\"iso_639_1\", StringType()),\n",
    "    StructField(\"name\", StringType())\n",
    "]))\n",
    "df_movies = df_movies.withColumn(\"spoken_languages\", from_json(col(\"spoken_languages\"), json_slang))\n",
    "\n",
    "\n",
    "selected_columns = [\"movie_id\", \"title\", \"budget\", \"homepage\", \"original_language\", \"original_title\",\n",
    "                    \"overview\", \"popularity\", \"release_date\", \"revenue\", \"runtime\", \"status\",\n",
    "                    \"tagline\", \"vote_average\", \"vote_count\"]\n",
    "\n",
    "df_movies_tf = df_movies.select(selected_columns)\n",
    "\n",
    "schema = [\n",
    "    (\"movie_id\", \"string\"),\n",
    "    (\"title\", \"string\"),\n",
    "    (\"budget\", \"double\"),\n",
    "    (\"homepage\", \"string\"),\n",
    "    (\"original_language\", \"string\"),\n",
    "    (\"original_title\", \"string\"),\n",
    "    (\"overview\", \"string\"),\n",
    "    (\"popularity\", \"float\"),\n",
    "    (\"release_date\", \"date\"),\n",
    "    (\"revenue\", \"double\"),\n",
    "    (\"runtime\", \"integer\"),\n",
    "    (\"status\", \"string\"),\n",
    "    (\"tagline\", \"string\"),\n",
    "    (\"vote_average\", \"float\"),\n",
    "    (\"vote_count\", \"integer\")\n",
    "]\n",
    "\n",
    "\n",
    "for col_name, col_type in schema:\n",
    "    df_movies_tf = df_movies_tf.withColumn(col_name, col(col_name).cast(col_type))"
   ]
  },
  {
   "cell_type": "code",
   "execution_count": 3,
   "id": "c39dceca-bbaf-4888-ad12-26f24b55fb2a",
   "metadata": {},
   "outputs": [
    {
     "data": {
      "text/plain": [
       "600"
      ]
     },
     "execution_count": 3,
     "metadata": {},
     "output_type": "execute_result"
    }
   ],
   "source": [
    "df_movies_tf.count()"
   ]
  },
  {
   "cell_type": "code",
   "execution_count": 4,
   "id": "023849b8-e540-4c01-bd14-8b8f5ccc4a44",
   "metadata": {},
   "outputs": [],
   "source": [
    "un_df_movies_tf = df_movies_tf.dropDuplicates(['movie_id'])"
   ]
  },
  {
   "cell_type": "code",
   "execution_count": 5,
   "id": "03755d06-ea8a-44cb-825f-ad76e349b696",
   "metadata": {},
   "outputs": [
    {
     "data": {
      "text/plain": [
       "600"
      ]
     },
     "execution_count": 5,
     "metadata": {},
     "output_type": "execute_result"
    }
   ],
   "source": [
    "un_df_movies_tf.count()"
   ]
  },
  {
   "cell_type": "code",
   "execution_count": 6,
   "id": "8a395dd6-1b99-4bd7-8363-c54a060d2812",
   "metadata": {},
   "outputs": [],
   "source": [
    "movies_deltaPath = \"s3a://tmdb-silver/movies\"\n",
    "movies_delta = DeltaTable.forPath(spark, movies_deltaPath)"
   ]
  },
  {
   "cell_type": "code",
   "execution_count": 7,
   "id": "b8cfd440-6a28-4563-b4c1-e8fc7e7941cb",
   "metadata": {},
   "outputs": [
    {
     "name": "stderr",
     "output_type": "stream",
     "text": [
      "                                                                                \r"
     ]
    }
   ],
   "source": [
    "movies_delta.alias(\"movies\") \\\n",
    "    .merge(un_df_movies_tf.alias(\"movies_new\"), \"movies.movie_id = movies_new.movie_id\") \\\n",
    "    .whenMatchedUpdateAll() \\\n",
    "    .whenNotMatchedInsertAll() \\\n",
    "    .execute()"
   ]
  },
  {
   "cell_type": "code",
   "execution_count": 8,
   "id": "1edd1b1a-ff07-4fac-aaf6-9017c028b645",
   "metadata": {},
   "outputs": [],
   "source": [
    "df2_de = spark.read.format(\"delta\") \\\n",
    ".option(\"header\", True) \\\n",
    ".option(\"inferSchema\", True) \\\n",
    ".option(\"quote\", \"\\\"\") \\\n",
    ".option(\"escape\", \"\\\"\") \\\n",
    ".load('s3a://tmdb-silver/movies')"
   ]
  },
  {
   "cell_type": "code",
   "execution_count": 9,
   "id": "54ccff2a-58de-4a76-ac4c-43facab176c4",
   "metadata": {},
   "outputs": [
    {
     "name": "stderr",
     "output_type": "stream",
     "text": [
      "                                                                                \r"
     ]
    },
    {
     "data": {
      "text/plain": [
       "600"
      ]
     },
     "execution_count": 9,
     "metadata": {},
     "output_type": "execute_result"
    }
   ],
   "source": [
    "df2_de.count()"
   ]
  },
  {
   "cell_type": "markdown",
   "id": "61fa9a4c-a9fd-47a6-91a9-b8b626572d51",
   "metadata": {},
   "source": [
    "///"
   ]
  },
  {
   "cell_type": "markdown",
   "id": "27cd6edf-521e-4f5f-897a-fab01b2bc390",
   "metadata": {},
   "source": [
    "# Genres"
   ]
  },
  {
   "cell_type": "code",
   "execution_count": 10,
   "id": "f67dec22-247e-424b-87e0-7edf8925488f",
   "metadata": {},
   "outputs": [],
   "source": [
    "#explode_outer ile iç içe geçmiş arrayi düzleştirdim veistenen değerleri credits_cast tablosunda gösterdim/ explode_outerda boş veya null durumundaki satırlar korunur\n",
    "movies_genres = df_movies.select(\"movie_id\", explode_outer(\"genres\").alias(\"genres\"))\n",
    "movies_genres = movies_genres.select(\"movie_id\", \"genres.id\", \"genres.name\")\n",
    "movies_genres = movies_genres.withColumn(\"movie_id\", col(\"movie_id\").cast(\"string\"))"
   ]
  },
  {
   "cell_type": "code",
   "execution_count": 11,
   "id": "919eec34-b2c1-4cc5-9b09-bb28e4d06e75",
   "metadata": {},
   "outputs": [],
   "source": [
    "movies_genres = movies_genres.fillna({'id': -9999})"
   ]
  },
  {
   "cell_type": "code",
   "execution_count": 12,
   "id": "6ba85b13-2fff-49b5-89f9-d7f8fd493542",
   "metadata": {},
   "outputs": [
    {
     "data": {
      "text/plain": [
       "1910"
      ]
     },
     "execution_count": 12,
     "metadata": {},
     "output_type": "execute_result"
    }
   ],
   "source": [
    "movies_genres.count()"
   ]
  },
  {
   "cell_type": "code",
   "execution_count": 13,
   "id": "dcaf0880-a2ab-4f1f-bba6-5cc726a249b5",
   "metadata": {},
   "outputs": [],
   "source": [
    "un_movies_genres = movies_genres.dropDuplicates(['movie_id','id','name'])"
   ]
  },
  {
   "cell_type": "code",
   "execution_count": 14,
   "id": "7a5b6c33-9831-4486-bea8-f144782f656d",
   "metadata": {},
   "outputs": [
    {
     "data": {
      "text/plain": [
       "1910"
      ]
     },
     "execution_count": 14,
     "metadata": {},
     "output_type": "execute_result"
    }
   ],
   "source": [
    "un_movies_genres.count()"
   ]
  },
  {
   "cell_type": "code",
   "execution_count": 15,
   "id": "39a7410d-4238-4ae6-9cb2-7166ef6ae8c8",
   "metadata": {},
   "outputs": [],
   "source": [
    "genres_deltaPath = \"s3a://tmdb-silver/genres\"\n",
    "genres_delta = DeltaTable.forPath(spark, genres_deltaPath)"
   ]
  },
  {
   "cell_type": "code",
   "execution_count": 16,
   "id": "fb1e59a3-8331-404e-a5d7-190d6e0b8d92",
   "metadata": {},
   "outputs": [
    {
     "name": "stderr",
     "output_type": "stream",
     "text": [
      "                                                                                \r"
     ]
    }
   ],
   "source": [
    "genres_delta.alias(\"genres\") \\\n",
    "    .merge(un_movies_genres.alias(\"genres_new\"), \"genres.movie_id = genres_new.movie_id AND genres.id = genres_new.id\") \\\n",
    "    .whenMatchedUpdateAll() \\\n",
    "    .whenNotMatchedInsertAll() \\\n",
    "    .execute()"
   ]
  },
  {
   "cell_type": "code",
   "execution_count": 17,
   "id": "81f29d53-17f2-4090-b34d-13224a266065",
   "metadata": {},
   "outputs": [
    {
     "name": "stderr",
     "output_type": "stream",
     "text": [
      "                                                                                \r"
     ]
    },
    {
     "data": {
      "text/plain": [
       "12188"
      ]
     },
     "execution_count": 17,
     "metadata": {},
     "output_type": "execute_result"
    }
   ],
   "source": [
    "df3_de = spark.read.format(\"delta\") \\\n",
    ".option(\"header\", True) \\\n",
    ".option(\"inferSchema\", True) \\\n",
    ".option(\"quote\", \"\\\"\") \\\n",
    ".option(\"escape\", \"\\\"\") \\\n",
    ".load('s3a://tmdb-silver/genres')\n",
    "\n",
    "df3_de.count()"
   ]
  },
  {
   "cell_type": "markdown",
   "id": "eb029943-2992-43f5-894f-fdf73c39e283",
   "metadata": {},
   "source": [
    "//////"
   ]
  },
  {
   "cell_type": "markdown",
   "id": "bf0c8f77-faa2-4fdf-8684-e9758a4b603c",
   "metadata": {},
   "source": [
    "# keywords"
   ]
  },
  {
   "cell_type": "code",
   "execution_count": 17,
   "id": "2e21b09a-f07b-4d85-a0eb-42761082c6f8",
   "metadata": {},
   "outputs": [],
   "source": [
    "# keywords tablosu\n",
    "movies_keywords = df_movies.select(\"movie_id\", explode_outer(\"keywords\").alias(\"keywords\"))\n",
    "movies_keywords = movies_keywords.select(\"movie_id\", \"keywords.id\", \"keywords.name\")\n",
    "movies_keywords = movies_keywords.withColumn(\"movie_id\", col(\"movie_id\").cast(\"string\"))\n",
    "# id nulls must be imputed with -9999.\n",
    "movies_keywords = movies_keywords.fillna({'id': -9999})\n"
   ]
  },
  {
   "cell_type": "code",
   "execution_count": 18,
   "id": "41d2810f-a3f6-4460-b6ac-eba4fd631cf1",
   "metadata": {},
   "outputs": [
    {
     "data": {
      "text/plain": [
       "6133"
      ]
     },
     "execution_count": 18,
     "metadata": {},
     "output_type": "execute_result"
    }
   ],
   "source": [
    "movies_keywords.count()"
   ]
  },
  {
   "cell_type": "code",
   "execution_count": 19,
   "id": "c5835684-be48-414e-a648-d58f8f3c1254",
   "metadata": {},
   "outputs": [],
   "source": [
    "un_movies_keywords = movies_keywords.dropDuplicates(['movie_id', 'id', 'name'])"
   ]
  },
  {
   "cell_type": "code",
   "execution_count": 20,
   "id": "d20a747a-6670-4380-9b36-236b520d1b36",
   "metadata": {},
   "outputs": [
    {
     "data": {
      "text/plain": [
       "6133"
      ]
     },
     "execution_count": 20,
     "metadata": {},
     "output_type": "execute_result"
    }
   ],
   "source": [
    "un_movies_keywords.count()"
   ]
  },
  {
   "cell_type": "code",
   "execution_count": 21,
   "id": "d057f441-2b83-4c34-9a27-14e70daed275",
   "metadata": {},
   "outputs": [],
   "source": [
    "keywords_deltaPath = \"s3a://tmdb-silver/keywords\"\n",
    "keywords_delta = DeltaTable.forPath(spark, keywords_deltaPath)"
   ]
  },
  {
   "cell_type": "code",
   "execution_count": 22,
   "id": "fe61e786-f8f5-4458-a944-7a9343f4e4ed",
   "metadata": {},
   "outputs": [
    {
     "name": "stderr",
     "output_type": "stream",
     "text": [
      "                                                                                \r"
     ]
    }
   ],
   "source": [
    "keywords_delta.alias(\"keywords\") \\\n",
    "    .merge(un_movies_keywords.alias(\"keywords_new\"), \"keywords.movie_id = keywords_new.movie_id AND keywords.id = keywords_new.id\") \\\n",
    "    .whenMatchedUpdateAll() \\\n",
    "    .whenNotMatchedInsertAll() \\\n",
    "    .execute()"
   ]
  },
  {
   "cell_type": "code",
   "execution_count": 24,
   "id": "c310ceda-a120-4751-a176-5766fdeae299",
   "metadata": {},
   "outputs": [
    {
     "name": "stderr",
     "output_type": "stream",
     "text": [
      "                                                                                \r"
     ]
    },
    {
     "data": {
      "text/plain": [
       "36606"
      ]
     },
     "execution_count": 24,
     "metadata": {},
     "output_type": "execute_result"
    }
   ],
   "source": [
    "df4_de = spark.read.format(\"delta\") \\\n",
    ".option(\"header\", True) \\\n",
    ".option(\"inferSchema\", True) \\\n",
    ".option(\"quote\", \"\\\"\") \\\n",
    ".option(\"escape\", \"\\\"\") \\\n",
    ".load('s3a://tmdb-silver/keywords')\n",
    "\n",
    "df4_de.count()"
   ]
  },
  {
   "cell_type": "markdown",
   "id": "eeed6fa6-2b0e-4fd7-8e5f-6a2d30e2e9df",
   "metadata": {},
   "source": [
    "//////"
   ]
  },
  {
   "cell_type": "markdown",
   "id": "296cb099-cfa7-4629-bcbf-9e61ddecb0a1",
   "metadata": {},
   "source": [
    "# prod com"
   ]
  },
  {
   "cell_type": "code",
   "execution_count": 23,
   "id": "2032c5b0-465e-4af7-a7c9-22eaa1c7ed4e",
   "metadata": {},
   "outputs": [],
   "source": [
    "movies_prod_comp = df_movies.select(\"movie_id\", explode_outer(\"production_companies\").alias(\"production_companies\"))\n",
    "movies_prod_comp = movies_prod_comp.select(\"movie_id\", \"production_companies.id\", \"production_companies.name\")\n",
    "movies_prod_comp = movies_prod_comp.withColumn(\"movie_id\", col(\"movie_id\").cast(\"string\"))\n",
    "# id nulls must be imputed with -9999.\n",
    "movies_prod_comp = movies_prod_comp.fillna({'id': -9999})"
   ]
  },
  {
   "cell_type": "code",
   "execution_count": 26,
   "id": "cb5f43d1-edca-4b65-b528-8da1b4fa9b98",
   "metadata": {},
   "outputs": [
    {
     "name": "stderr",
     "output_type": "stream",
     "text": [
      "                                                                                \r"
     ]
    },
    {
     "data": {
      "text/plain": [
       "14028"
      ]
     },
     "execution_count": 26,
     "metadata": {},
     "output_type": "execute_result"
    }
   ],
   "source": [
    "movies_prod_comp.count()"
   ]
  },
  {
   "cell_type": "code",
   "execution_count": 24,
   "id": "c57a2c10-b939-468e-aaf2-c46dae8113da",
   "metadata": {},
   "outputs": [],
   "source": [
    "un_movies_prod_comp =movies_prod_comp.dropDuplicates(['movie_id', 'id', 'name'])"
   ]
  },
  {
   "cell_type": "code",
   "execution_count": 28,
   "id": "cfa3bb7a-0ac8-48ed-9955-51d2efabcedc",
   "metadata": {},
   "outputs": [
    {
     "name": "stderr",
     "output_type": "stream",
     "text": [
      "                                                                                \r"
     ]
    },
    {
     "data": {
      "text/plain": [
       "14028"
      ]
     },
     "execution_count": 28,
     "metadata": {},
     "output_type": "execute_result"
    }
   ],
   "source": [
    "un_movies_prod_comp.count()"
   ]
  },
  {
   "cell_type": "code",
   "execution_count": 29,
   "id": "ae570d34-627c-4fff-b8d1-1e885a454326",
   "metadata": {},
   "outputs": [
    {
     "name": "stdout",
     "output_type": "stream",
     "text": [
      "root\n",
      " |-- movie_id: string (nullable = true)\n",
      " |-- id: integer (nullable = false)\n",
      " |-- name: string (nullable = true)\n",
      "\n"
     ]
    }
   ],
   "source": [
    "un_movies_prod_comp.printSchema()"
   ]
  },
  {
   "cell_type": "code",
   "execution_count": 25,
   "id": "6c95225c-7b59-4803-a97c-98e6b7c4c30f",
   "metadata": {},
   "outputs": [],
   "source": [
    "prod_comp_deltaPath = \"s3a://tmdb-silver/production_companies\"\n",
    "prod_comp_delta = DeltaTable.forPath(spark, prod_comp_deltaPath)"
   ]
  },
  {
   "cell_type": "code",
   "execution_count": 26,
   "id": "2dbe269b-0e45-47c9-a273-b14a7b1a47a8",
   "metadata": {},
   "outputs": [
    {
     "name": "stderr",
     "output_type": "stream",
     "text": [
      "                                                                                \r"
     ]
    }
   ],
   "source": [
    "prod_comp_delta.alias(\"prod_comp\") \\\n",
    "    .merge(un_movies_prod_comp.alias(\"prod_comp_new\"), \"prod_comp.movie_id = prod_comp_new.movie_id AND prod_comp.id = prod_comp_new.id\") \\\n",
    "    .whenMatchedUpdateAll() \\\n",
    "    .whenNotMatchedInsertAll() \\\n",
    "    .execute()"
   ]
  },
  {
   "cell_type": "code",
   "execution_count": 33,
   "id": "63c88ec0-3e84-4b1d-8d2d-b8148435b872",
   "metadata": {},
   "outputs": [
    {
     "data": {
      "text/plain": [
       "14028"
      ]
     },
     "execution_count": 33,
     "metadata": {},
     "output_type": "execute_result"
    }
   ],
   "source": [
    "df7_de = spark.read.format(\"delta\") \\\n",
    ".option(\"header\", True) \\\n",
    ".option(\"inferSchema\", True) \\\n",
    ".option(\"quote\", \"\\\"\") \\\n",
    ".option(\"escape\", \"\\\"\") \\\n",
    ".load('s3a://tmdb-silver/production_companies')\n",
    "\n",
    "df7_de.count()"
   ]
  },
  {
   "cell_type": "markdown",
   "id": "3cd22a77-d9d2-4a0b-8248-8411425ef2c5",
   "metadata": {},
   "source": [
    "///"
   ]
  },
  {
   "cell_type": "markdown",
   "id": "c5e99230-c889-4a0e-b1af-9ad3e6d3cd3a",
   "metadata": {},
   "source": [
    "# prod countries"
   ]
  },
  {
   "cell_type": "code",
   "execution_count": 27,
   "id": "cbb86258-9c61-4dba-9015-44302c8fa748",
   "metadata": {},
   "outputs": [],
   "source": [
    "#production_countries tablosu\n",
    "movies_prod_country = df_movies.select(\"movie_id\", explode_outer(\"production_countries\").alias(\"production_countries\"))\n",
    "movies_prod_country = movies_prod_country.select(\"movie_id\", \"production_countries.iso_3166_1\", \"production_countries.name\")\n",
    "movies_prod_country = movies_prod_country.withColumn(\"movie_id\", col(\"movie_id\").cast(\"string\"))\n",
    "# id nulls must be imputed with -xx.\n",
    "movies_prod_country = movies_prod_country.fillna({'iso_3166_1': 'XX'})"
   ]
  },
  {
   "cell_type": "code",
   "execution_count": 35,
   "id": "9101b35b-d632-4d35-b208-22a6574681b6",
   "metadata": {},
   "outputs": [
    {
     "name": "stderr",
     "output_type": "stream",
     "text": [
      "                                                                                \r"
     ]
    },
    {
     "data": {
      "text/plain": [
       "6610"
      ]
     },
     "execution_count": 35,
     "metadata": {},
     "output_type": "execute_result"
    }
   ],
   "source": [
    "movies_prod_country.count()"
   ]
  },
  {
   "cell_type": "code",
   "execution_count": 28,
   "id": "bc11fda0-d6cd-4527-aab3-71b3f111b70a",
   "metadata": {},
   "outputs": [],
   "source": [
    "un_movies_prod_country = movies_prod_country.dropDuplicates(['movie_id','iso_3166_1'])"
   ]
  },
  {
   "cell_type": "code",
   "execution_count": 37,
   "id": "a7eae9a2-95b7-420c-97d9-e6a881b1c0c8",
   "metadata": {},
   "outputs": [
    {
     "name": "stderr",
     "output_type": "stream",
     "text": [
      "                                                                                \r"
     ]
    },
    {
     "data": {
      "text/plain": [
       "6610"
      ]
     },
     "execution_count": 37,
     "metadata": {},
     "output_type": "execute_result"
    }
   ],
   "source": [
    "un_movies_prod_country.count()"
   ]
  },
  {
   "cell_type": "code",
   "execution_count": 29,
   "id": "ef49661c-534f-4b52-b13b-e4e7fae4f638",
   "metadata": {},
   "outputs": [],
   "source": [
    "prod_countries_deltaPath = \"s3a://tmdb-silver/production_countries\"\n",
    "prod_countries_delta = DeltaTable.forPath(spark, prod_countries_deltaPath)"
   ]
  },
  {
   "cell_type": "code",
   "execution_count": 30,
   "id": "f33c27ae-f3fa-4014-bb6e-a6f795ece7da",
   "metadata": {},
   "outputs": [
    {
     "name": "stderr",
     "output_type": "stream",
     "text": [
      "                                                                                \r"
     ]
    }
   ],
   "source": [
    "prod_countries_delta.alias(\"prod_countries\") \\\n",
    "    .merge(un_movies_prod_country.alias(\"prod_countries_new\"), \"prod_countries.movie_id = prod_countries_new.movie_id AND prod_countries.iso_3166_1 = prod_countries_new.iso_3166_1\") \\\n",
    "    .whenMatchedUpdateAll() \\\n",
    "    .whenNotMatchedInsertAll() \\\n",
    "    .execute()"
   ]
  },
  {
   "cell_type": "code",
   "execution_count": 40,
   "id": "f8935c67-80db-483c-bc93-22aa5d2a7308",
   "metadata": {},
   "outputs": [
    {
     "name": "stderr",
     "output_type": "stream",
     "text": [
      "                                                                                \r"
     ]
    },
    {
     "data": {
      "text/plain": [
       "6610"
      ]
     },
     "execution_count": 40,
     "metadata": {},
     "output_type": "execute_result"
    }
   ],
   "source": [
    "df5_de = spark.read.format(\"delta\") \\\n",
    ".option(\"header\", True) \\\n",
    ".option(\"inferSchema\", True) \\\n",
    ".option(\"quote\", \"\\\"\") \\\n",
    ".option(\"escape\", \"\\\"\") \\\n",
    ".load('s3a://tmdb-silver/production_countries')\n",
    "\n",
    "df5_de.count()"
   ]
  },
  {
   "cell_type": "markdown",
   "id": "5671ffe5-5c65-491e-9dcd-3222ece43b23",
   "metadata": {},
   "source": [
    "////"
   ]
  },
  {
   "cell_type": "markdown",
   "id": "ac221dfb-51ab-46bc-b175-2f04a5fdc408",
   "metadata": {},
   "source": [
    "# spoken lang"
   ]
  },
  {
   "cell_type": "code",
   "execution_count": 31,
   "id": "21f04f87-af7b-44d7-a72e-cc753b1d5731",
   "metadata": {},
   "outputs": [],
   "source": [
    "movies_spoken_lang = df_movies.select(\"movie_id\", explode_outer(\"spoken_languages\").alias(\"spoken_languages\"))\n",
    "movies_spoken_lang = movies_spoken_lang.select(\"movie_id\", \"spoken_languages.iso_639_1\", \"spoken_languages.name\")\n",
    "movies_spoken_lang = movies_spoken_lang.withColumn(\"movie_id\", col(\"movie_id\").cast(\"string\"))\n",
    "\n",
    "# id nulls must be imputed with -xx.\n",
    "movies_spoken_lang = movies_spoken_lang.fillna({'iso_639_1': 'XX'})\n"
   ]
  },
  {
   "cell_type": "code",
   "execution_count": 42,
   "id": "1ba97447-cba5-4adb-b066-626f63f380dd",
   "metadata": {},
   "outputs": [
    {
     "name": "stderr",
     "output_type": "stream",
     "text": [
      "                                                                                \r"
     ]
    },
    {
     "data": {
      "text/plain": [
       "7023"
      ]
     },
     "execution_count": 42,
     "metadata": {},
     "output_type": "execute_result"
    }
   ],
   "source": [
    "movies_spoken_lang.count()"
   ]
  },
  {
   "cell_type": "code",
   "execution_count": 32,
   "id": "818ddece-e3e1-400e-8579-fdeb2f40fa06",
   "metadata": {},
   "outputs": [],
   "source": [
    "un_movies_spoken_lang = movies_spoken_lang.dropDuplicates([\"movie_id\", \"iso_639_1\"])"
   ]
  },
  {
   "cell_type": "code",
   "execution_count": 44,
   "id": "2a53f782-cbba-4dec-a326-163d92569956",
   "metadata": {},
   "outputs": [
    {
     "name": "stderr",
     "output_type": "stream",
     "text": [
      "                                                                                \r"
     ]
    },
    {
     "data": {
      "text/plain": [
       "7023"
      ]
     },
     "execution_count": 44,
     "metadata": {},
     "output_type": "execute_result"
    }
   ],
   "source": [
    "un_movies_spoken_lang.count()"
   ]
  },
  {
   "cell_type": "code",
   "execution_count": 33,
   "id": "445cf347-53a5-4c6e-a6e5-8925d56793c6",
   "metadata": {},
   "outputs": [],
   "source": [
    "movies_spoken_lang_deltaPath = \"s3a://tmdb-silver/spoken_languages\"\n",
    "movies_spoken_lang_delta = DeltaTable.forPath(spark, movies_spoken_lang_deltaPath)"
   ]
  },
  {
   "cell_type": "code",
   "execution_count": 34,
   "id": "3d8b48e5-6a09-4675-9da6-4edc390de491",
   "metadata": {},
   "outputs": [
    {
     "name": "stderr",
     "output_type": "stream",
     "text": [
      "                                                                                \r"
     ]
    }
   ],
   "source": [
    "movies_spoken_lang_delta.alias(\"spoken_lang\") \\\n",
    "    .merge(un_movies_spoken_lang.alias(\"spoken_lang_new\"), \"spoken_lang.movie_id = spoken_lang_new.movie_id AND spoken_lang.iso_639_1 = spoken_lang_new.iso_639_1\") \\\n",
    "    .whenMatchedUpdateAll() \\\n",
    "    .whenNotMatchedInsertAll() \\\n",
    "    .execute()"
   ]
  },
  {
   "cell_type": "code",
   "execution_count": 47,
   "id": "75210097-2d16-4c9c-a93a-7718109cbaec",
   "metadata": {},
   "outputs": [
    {
     "name": "stderr",
     "output_type": "stream",
     "text": [
      "                                                                                \r"
     ]
    },
    {
     "data": {
      "text/plain": [
       "7023"
      ]
     },
     "execution_count": 47,
     "metadata": {},
     "output_type": "execute_result"
    }
   ],
   "source": [
    "df6_de = spark.read.format(\"delta\") \\\n",
    ".option(\"header\", True) \\\n",
    ".option(\"inferSchema\", True) \\\n",
    ".option(\"quote\", \"\\\"\") \\\n",
    ".option(\"escape\", \"\\\"\") \\\n",
    ".load('s3a://tmdb-silver/spoken_languages')\n",
    "\n",
    "df6_de.count()"
   ]
  },
  {
   "cell_type": "code",
   "execution_count": 53,
   "id": "0898e4d1-c351-4537-b613-674cc896f867",
   "metadata": {},
   "outputs": [
    {
     "name": "stdout",
     "output_type": "stream",
     "text": [
      "root\n",
      " |-- movie_id: string (nullable = true)\n",
      " |-- iso_639_1: string (nullable = true)\n",
      " |-- name: string (nullable = true)\n",
      "\n"
     ]
    }
   ],
   "source": [
    "df5_de.printSchema()"
   ]
  },
  {
   "cell_type": "code",
   "execution_count": 54,
   "id": "4bf8c23c-ed01-4e0e-bd83-64e167a7fc86",
   "metadata": {},
   "outputs": [
    {
     "name": "stdout",
     "output_type": "stream",
     "text": [
      "root\n",
      " |-- movie_id: string (nullable = true)\n",
      " |-- id: integer (nullable = true)\n",
      " |-- name: string (nullable = true)\n",
      "\n"
     ]
    }
   ],
   "source": [
    "df2_de.printSchema()"
   ]
  },
  {
   "cell_type": "code",
   "execution_count": null,
   "id": "b7283fd1-f9fc-4333-9b5a-7dd4115c3ecd",
   "metadata": {},
   "outputs": [],
   "source": []
  }
 ],
 "metadata": {
  "kernelspec": {
   "display_name": "Python 3 (ipykernel)",
   "language": "python",
   "name": "python3"
  },
  "language_info": {
   "codemirror_mode": {
    "name": "ipython",
    "version": 3
   },
   "file_extension": ".py",
   "mimetype": "text/x-python",
   "name": "python",
   "nbconvert_exporter": "python",
   "pygments_lexer": "ipython3",
   "version": "3.8.18"
  }
 },
 "nbformat": 4,
 "nbformat_minor": 5
}
